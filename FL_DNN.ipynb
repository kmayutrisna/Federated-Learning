{
  "nbformat": 4,
  "nbformat_minor": 0,
  "metadata": {
    "colab": {
      "name": "FL-DNN.ipynb",
      "provenance": [],
      "collapsed_sections": [],
      "authorship_tag": "ABX9TyOzHxWv2kVmUaSothrAIB0s",
      "include_colab_link": true
    },
    "kernelspec": {
      "name": "python3",
      "display_name": "Python 3"
    },
    "language_info": {
      "name": "python"
    },
    "accelerator": "TPU"
  },
  "cells": [
    {
      "cell_type": "markdown",
      "metadata": {
        "id": "view-in-github",
        "colab_type": "text"
      },
      "source": [
        "<a href=\"https://colab.research.google.com/github/kmayutrisna/Federated-Learning/blob/main/FL_DNN.ipynb\" target=\"_parent\"><img src=\"https://colab.research.google.com/assets/colab-badge.svg\" alt=\"Open In Colab\"/></a>"
      ]
    },
    {
      "cell_type": "markdown",
      "metadata": {
        "id": "4xpxTzYxyDfc"
      },
      "source": [
        "Import Statement\n"
      ]
    },
    {
      "cell_type": "code",
      "metadata": {
        "id": "k5yliEXOyEQr"
      },
      "source": [
        "import tensorflow as tf\n",
        "from tensorflow.keras.models import Sequential,load_model\n",
        "from tensorflow.keras.layers import Dense,Input,Dropout,Flatten\n",
        "import pandas as pd\n",
        "import numpy as np\n",
        "import matplotlib.pyplot as plt\n",
        "import seaborn as sns\n",
        "from sklearn.metrics import confusion_matrix\n",
        "from sklearn.preprocessing import LabelEncoder, MinMaxScaler\n",
        "from sklearn.utils import shuffle\n",
        "from google.colab import drive"
      ],
      "execution_count": 1,
      "outputs": []
    },
    {
      "cell_type": "code",
      "metadata": {
        "colab": {
          "base_uri": "https://localhost:8080/"
        },
        "id": "_1ml9HBe7gOw",
        "outputId": "b48f2539-9f7c-461b-d04c-fcfa0157c8cb"
      },
      "source": [
        "drive.mount(\"/content/drive\")"
      ],
      "execution_count": 2,
      "outputs": [
        {
          "output_type": "stream",
          "name": "stdout",
          "text": [
            "Mounted at /content/drive\n"
          ]
        }
      ]
    },
    {
      "cell_type": "code",
      "metadata": {
        "id": "eqxvj1B1QTd4"
      },
      "source": [
        "features = []\n",
        "with open(\"/content/drive/My Drive/data/HumanActivity/data/train.csv\") as file:\n",
        "    for line in file:\n",
        "        features.append(line.split()[0])"
      ],
      "execution_count": 3,
      "outputs": []
    },
    {
      "cell_type": "code",
      "metadata": {
        "colab": {
          "base_uri": "https://localhost:8080/"
        },
        "id": "FWgeejozeO4S",
        "outputId": "8fffbc70-4125-4014-9ed2-efe5ad10057b"
      },
      "source": [
        "import csv\n",
        "HEADERS = next(csv.reader(open('/content/drive/My Drive/data/HumanActivity/data/train.csv')))\n",
        "print (HEADERS)"
      ],
      "execution_count": 4,
      "outputs": [
        {
          "output_type": "stream",
          "name": "stdout",
          "text": [
            "['subject', 'acc1_x', 'acc1_y', 'acc1_z', 'gyro1_x', 'gyro1_y', 'gyro1_z', 'acc2_x', 'acc2_y', 'acc2_z', 'label']\n"
          ]
        }
      ]
    },
    {
      "cell_type": "code",
      "metadata": {
        "id": "9elttUP-gXsY"
      },
      "source": [
        "train_df = pd.read_csv('/content/drive/My Drive/data/HumanActivity/data/train.csv')\n",
        "train_df['activity'] = train_df['label'].map({1: \"WALKING\", 2:\"WALKING_UPSTAIRS\", 3:\"WALKING_DOWNSTAIRS\", 4:\"SITTING\", 5:\"STANDING\", 6:\"LYING\"})\n"
      ],
      "execution_count": 5,
      "outputs": []
    },
    {
      "cell_type": "code",
      "metadata": {
        "colab": {
          "base_uri": "https://localhost:8080/",
          "height": 204
        },
        "id": "fQJ7WYo1guXx",
        "outputId": "878df4f8-ff53-453e-b29a-960941da1c96"
      },
      "source": [
        "train_df.head()"
      ],
      "execution_count": 6,
      "outputs": [
        {
          "output_type": "execute_result",
          "data": {
            "text/html": [
              "<div>\n",
              "<style scoped>\n",
              "    .dataframe tbody tr th:only-of-type {\n",
              "        vertical-align: middle;\n",
              "    }\n",
              "\n",
              "    .dataframe tbody tr th {\n",
              "        vertical-align: top;\n",
              "    }\n",
              "\n",
              "    .dataframe thead th {\n",
              "        text-align: right;\n",
              "    }\n",
              "</style>\n",
              "<table border=\"1\" class=\"dataframe\">\n",
              "  <thead>\n",
              "    <tr style=\"text-align: right;\">\n",
              "      <th></th>\n",
              "      <th>subject</th>\n",
              "      <th>acc1_x</th>\n",
              "      <th>acc1_y</th>\n",
              "      <th>acc1_z</th>\n",
              "      <th>gyro1_x</th>\n",
              "      <th>gyro1_y</th>\n",
              "      <th>gyro1_z</th>\n",
              "      <th>acc2_x</th>\n",
              "      <th>acc2_y</th>\n",
              "      <th>acc2_z</th>\n",
              "      <th>label</th>\n",
              "      <th>activity</th>\n",
              "    </tr>\n",
              "  </thead>\n",
              "  <tbody>\n",
              "    <tr>\n",
              "      <th>0</th>\n",
              "      <td>3</td>\n",
              "      <td>-0.049573</td>\n",
              "      <td>0.051482</td>\n",
              "      <td>0.061498</td>\n",
              "      <td>0.357428</td>\n",
              "      <td>0.876525</td>\n",
              "      <td>-1.077288</td>\n",
              "      <td>0.951736</td>\n",
              "      <td>-0.303094</td>\n",
              "      <td>-0.133766</td>\n",
              "      <td>5</td>\n",
              "      <td>STANDING</td>\n",
              "    </tr>\n",
              "    <tr>\n",
              "      <th>1</th>\n",
              "      <td>3</td>\n",
              "      <td>-0.085298</td>\n",
              "      <td>0.048648</td>\n",
              "      <td>0.083263</td>\n",
              "      <td>0.337020</td>\n",
              "      <td>0.840771</td>\n",
              "      <td>-1.329607</td>\n",
              "      <td>0.918129</td>\n",
              "      <td>-0.301953</td>\n",
              "      <td>-0.111281</td>\n",
              "      <td>5</td>\n",
              "      <td>STANDING</td>\n",
              "    </tr>\n",
              "    <tr>\n",
              "      <th>2</th>\n",
              "      <td>3</td>\n",
              "      <td>-0.046568</td>\n",
              "      <td>0.057793</td>\n",
              "      <td>0.114970</td>\n",
              "      <td>0.320000</td>\n",
              "      <td>0.909147</td>\n",
              "      <td>-0.788201</td>\n",
              "      <td>0.958863</td>\n",
              "      <td>-0.288855</td>\n",
              "      <td>-0.078756</td>\n",
              "      <td>5</td>\n",
              "      <td>STANDING</td>\n",
              "    </tr>\n",
              "    <tr>\n",
              "      <th>3</th>\n",
              "      <td>3</td>\n",
              "      <td>0.001564</td>\n",
              "      <td>0.068723</td>\n",
              "      <td>0.144465</td>\n",
              "      <td>0.308596</td>\n",
              "      <td>0.773221</td>\n",
              "      <td>-0.313850</td>\n",
              "      <td>1.008886</td>\n",
              "      <td>-0.274002</td>\n",
              "      <td>-0.048346</td>\n",
              "      <td>5</td>\n",
              "      <td>STANDING</td>\n",
              "    </tr>\n",
              "    <tr>\n",
              "      <th>4</th>\n",
              "      <td>3</td>\n",
              "      <td>-0.026644</td>\n",
              "      <td>0.088834</td>\n",
              "      <td>0.188589</td>\n",
              "      <td>0.308176</td>\n",
              "      <td>0.691534</td>\n",
              "      <td>-0.457948</td>\n",
              "      <td>0.982454</td>\n",
              "      <td>-0.250003</td>\n",
              "      <td>-0.003217</td>\n",
              "      <td>5</td>\n",
              "      <td>STANDING</td>\n",
              "    </tr>\n",
              "  </tbody>\n",
              "</table>\n",
              "</div>"
            ],
            "text/plain": [
              "   subject    acc1_x    acc1_y    acc1_z  ...    acc2_y    acc2_z  label  activity\n",
              "0        3 -0.049573  0.051482  0.061498  ... -0.303094 -0.133766      5  STANDING\n",
              "1        3 -0.085298  0.048648  0.083263  ... -0.301953 -0.111281      5  STANDING\n",
              "2        3 -0.046568  0.057793  0.114970  ... -0.288855 -0.078756      5  STANDING\n",
              "3        3  0.001564  0.068723  0.144465  ... -0.274002 -0.048346      5  STANDING\n",
              "4        3 -0.026644  0.088834  0.188589  ... -0.250003 -0.003217      5  STANDING\n",
              "\n",
              "[5 rows x 12 columns]"
            ]
          },
          "metadata": {},
          "execution_count": 6
        }
      ]
    },
    {
      "cell_type": "code",
      "metadata": {
        "colab": {
          "base_uri": "https://localhost:8080/"
        },
        "id": "YQHYXkBNhI6K",
        "outputId": "4d81a59d-3504-4691-b050-ce071b934d2b"
      },
      "source": [
        "HEADERS = next(csv.reader(open('/content/drive/My Drive/data/HumanActivity/data/test.csv')))\n",
        "print (HEADERS)"
      ],
      "execution_count": 7,
      "outputs": [
        {
          "output_type": "stream",
          "name": "stdout",
          "text": [
            "['subject', 'acc1_x', 'acc1_y', 'acc1_z', 'gyro1_x', 'gyro1_y', 'gyro1_z', 'acc2_x', 'acc2_y', 'acc2_z', 'label']\n"
          ]
        }
      ]
    },
    {
      "cell_type": "code",
      "metadata": {
        "id": "uxgFyMZ_hAY-"
      },
      "source": [
        "test_df = pd.read_csv('/content/drive/My Drive/data/HumanActivity/data/test.csv')\n",
        "test_df['activity'] = test_df['label'].map({1: \"WALKING\", 2:\"WALKING_UPSTAIRS\", 3:\"WALKING_DOWNSTAIRS\", 4:\"SITTING\", 5:\"STANDING\", 6:\"LYING\"})"
      ],
      "execution_count": 8,
      "outputs": []
    },
    {
      "cell_type": "code",
      "metadata": {
        "colab": {
          "base_uri": "https://localhost:8080/",
          "height": 204
        },
        "id": "VpywTLX4hPRE",
        "outputId": "aa7e59c6-6cd8-440a-81b7-bc6a583528a3"
      },
      "source": [
        "test_df.head()"
      ],
      "execution_count": 9,
      "outputs": [
        {
          "output_type": "execute_result",
          "data": {
            "text/html": [
              "<div>\n",
              "<style scoped>\n",
              "    .dataframe tbody tr th:only-of-type {\n",
              "        vertical-align: middle;\n",
              "    }\n",
              "\n",
              "    .dataframe tbody tr th {\n",
              "        vertical-align: top;\n",
              "    }\n",
              "\n",
              "    .dataframe thead th {\n",
              "        text-align: right;\n",
              "    }\n",
              "</style>\n",
              "<table border=\"1\" class=\"dataframe\">\n",
              "  <thead>\n",
              "    <tr style=\"text-align: right;\">\n",
              "      <th></th>\n",
              "      <th>subject</th>\n",
              "      <th>acc1_x</th>\n",
              "      <th>acc1_y</th>\n",
              "      <th>acc1_z</th>\n",
              "      <th>gyro1_x</th>\n",
              "      <th>gyro1_y</th>\n",
              "      <th>gyro1_z</th>\n",
              "      <th>acc2_x</th>\n",
              "      <th>acc2_y</th>\n",
              "      <th>acc2_z</th>\n",
              "      <th>label</th>\n",
              "      <th>activity</th>\n",
              "    </tr>\n",
              "  </thead>\n",
              "  <tbody>\n",
              "    <tr>\n",
              "      <th>0</th>\n",
              "      <td>2</td>\n",
              "      <td>0.011653</td>\n",
              "      <td>-0.029399</td>\n",
              "      <td>0.106826</td>\n",
              "      <td>0.437464</td>\n",
              "      <td>0.531349</td>\n",
              "      <td>0.136528</td>\n",
              "      <td>1.041216</td>\n",
              "      <td>-0.269796</td>\n",
              "      <td>0.023780</td>\n",
              "      <td>5</td>\n",
              "      <td>STANDING</td>\n",
              "    </tr>\n",
              "    <tr>\n",
              "      <th>1</th>\n",
              "      <td>2</td>\n",
              "      <td>0.013109</td>\n",
              "      <td>-0.039729</td>\n",
              "      <td>0.152455</td>\n",
              "      <td>0.468264</td>\n",
              "      <td>0.721069</td>\n",
              "      <td>0.097622</td>\n",
              "      <td>1.041803</td>\n",
              "      <td>-0.280025</td>\n",
              "      <td>0.076293</td>\n",
              "      <td>5</td>\n",
              "      <td>STANDING</td>\n",
              "    </tr>\n",
              "    <tr>\n",
              "      <th>2</th>\n",
              "      <td>2</td>\n",
              "      <td>0.011269</td>\n",
              "      <td>-0.052406</td>\n",
              "      <td>0.216846</td>\n",
              "      <td>0.498257</td>\n",
              "      <td>0.520328</td>\n",
              "      <td>0.083556</td>\n",
              "      <td>1.039086</td>\n",
              "      <td>-0.292663</td>\n",
              "      <td>0.147475</td>\n",
              "      <td>5</td>\n",
              "      <td>STANDING</td>\n",
              "    </tr>\n",
              "    <tr>\n",
              "      <th>3</th>\n",
              "      <td>2</td>\n",
              "      <td>0.027831</td>\n",
              "      <td>-0.052106</td>\n",
              "      <td>0.202581</td>\n",
              "      <td>0.479396</td>\n",
              "      <td>0.372625</td>\n",
              "      <td>0.022861</td>\n",
              "      <td>1.054768</td>\n",
              "      <td>-0.292384</td>\n",
              "      <td>0.139906</td>\n",
              "      <td>5</td>\n",
              "      <td>STANDING</td>\n",
              "    </tr>\n",
              "    <tr>\n",
              "      <th>4</th>\n",
              "      <td>2</td>\n",
              "      <td>0.002318</td>\n",
              "      <td>-0.045470</td>\n",
              "      <td>0.176010</td>\n",
              "      <td>0.389894</td>\n",
              "      <td>0.414541</td>\n",
              "      <td>-0.025939</td>\n",
              "      <td>1.028376</td>\n",
              "      <td>-0.285826</td>\n",
              "      <td>0.119934</td>\n",
              "      <td>5</td>\n",
              "      <td>STANDING</td>\n",
              "    </tr>\n",
              "  </tbody>\n",
              "</table>\n",
              "</div>"
            ],
            "text/plain": [
              "   subject    acc1_x    acc1_y    acc1_z  ...    acc2_y    acc2_z  label  activity\n",
              "0        2  0.011653 -0.029399  0.106826  ... -0.269796  0.023780      5  STANDING\n",
              "1        2  0.013109 -0.039729  0.152455  ... -0.280025  0.076293      5  STANDING\n",
              "2        2  0.011269 -0.052406  0.216846  ... -0.292663  0.147475      5  STANDING\n",
              "3        2  0.027831 -0.052106  0.202581  ... -0.292384  0.139906      5  STANDING\n",
              "4        2  0.002318 -0.045470  0.176010  ... -0.285826  0.119934      5  STANDING\n",
              "\n",
              "[5 rows x 12 columns]"
            ]
          },
          "metadata": {},
          "execution_count": 9
        }
      ]
    },
    {
      "cell_type": "code",
      "metadata": {
        "colab": {
          "base_uri": "https://localhost:8080/"
        },
        "id": "sSMawZUlftjK",
        "outputId": "67545e35-3745-462f-f8c4-ac2fceca0391"
      },
      "source": [
        "# Checking for nan values\n",
        "print(\"Number of NaN values in train data is \"+str(train_df.isnull().sum().sum()))\n",
        "print(\"Number of NaN values in test data is \"+str(test_df.isnull().sum().sum()))"
      ],
      "execution_count": 10,
      "outputs": [
        {
          "output_type": "stream",
          "name": "stdout",
          "text": [
            "Number of NaN values in train data is 0\n",
            "Number of NaN values in test data is 0\n"
          ]
        }
      ]
    },
    {
      "cell_type": "code",
      "metadata": {
        "colab": {
          "base_uri": "https://localhost:8080/"
        },
        "id": "Gt-Btj2KfxSm",
        "outputId": "54640487-44db-41f6-cb67-9e7d5f1c76fd"
      },
      "source": [
        "# Checking for duplicate values\n",
        "print(\"Number of duplicate values in train data is \"+str(sum(train_df.duplicated())))\n",
        "print(\"Number of duplicate values in test data is \"+str(sum(test_df.duplicated())))"
      ],
      "execution_count": 11,
      "outputs": [
        {
          "output_type": "stream",
          "name": "stdout",
          "text": [
            "Number of duplicate values in train data is 213249\n",
            "Number of duplicate values in test data is 120832\n"
          ]
        }
      ]
    },
    {
      "cell_type": "code",
      "metadata": {
        "id": "vjHwxKSLf1tz"
      },
      "source": [
        "columns = train_df.columns"
      ],
      "execution_count": 12,
      "outputs": []
    },
    {
      "cell_type": "code",
      "metadata": {
        "id": "fnVYO3Crf88e"
      },
      "source": [
        "columns = columns.str.replace(\"[()]\", '') \n",
        "columns = columns.str.replace(\"_\", '')\n",
        "columns = columns.str.replace(\",\", '')\n",
        "#here, columns is of type pandas index. By writing \"columns.str\" we have changed its type to \n",
        "#pandas string. Pandas string has method called replace which we have used here.\n",
        "train_df.columns = columns\n",
        "test_df.columns = columns"
      ],
      "execution_count": 17,
      "outputs": []
    },
    {
      "cell_type": "code",
      "metadata": {
        "colab": {
          "base_uri": "https://localhost:8080/"
        },
        "id": "jJ866Se8gEji",
        "outputId": "746004d9-79a0-4206-aabf-2f77f0d2ea5d"
      },
      "source": [
        "train_df.columns"
      ],
      "execution_count": 13,
      "outputs": [
        {
          "output_type": "execute_result",
          "data": {
            "text/plain": [
              "Index(['subject', 'acc1_x', 'acc1_y', 'acc1_z', 'gyro1_x', 'gyro1_y',\n",
              "       'gyro1_z', 'acc2_x', 'acc2_y', 'acc2_z', 'label', 'activity'],\n",
              "      dtype='object')"
            ]
          },
          "metadata": {},
          "execution_count": 13
        }
      ]
    },
    {
      "cell_type": "code",
      "metadata": {
        "colab": {
          "base_uri": "https://localhost:8080/",
          "height": 204
        },
        "id": "MvKnJQE5gbzA",
        "outputId": "d3a56100-0b3b-4334-9fa9-05ce2928409d"
      },
      "source": [
        "train_df.head()"
      ],
      "execution_count": 14,
      "outputs": [
        {
          "output_type": "execute_result",
          "data": {
            "text/html": [
              "<div>\n",
              "<style scoped>\n",
              "    .dataframe tbody tr th:only-of-type {\n",
              "        vertical-align: middle;\n",
              "    }\n",
              "\n",
              "    .dataframe tbody tr th {\n",
              "        vertical-align: top;\n",
              "    }\n",
              "\n",
              "    .dataframe thead th {\n",
              "        text-align: right;\n",
              "    }\n",
              "</style>\n",
              "<table border=\"1\" class=\"dataframe\">\n",
              "  <thead>\n",
              "    <tr style=\"text-align: right;\">\n",
              "      <th></th>\n",
              "      <th>subject</th>\n",
              "      <th>acc1_x</th>\n",
              "      <th>acc1_y</th>\n",
              "      <th>acc1_z</th>\n",
              "      <th>gyro1_x</th>\n",
              "      <th>gyro1_y</th>\n",
              "      <th>gyro1_z</th>\n",
              "      <th>acc2_x</th>\n",
              "      <th>acc2_y</th>\n",
              "      <th>acc2_z</th>\n",
              "      <th>label</th>\n",
              "      <th>activity</th>\n",
              "    </tr>\n",
              "  </thead>\n",
              "  <tbody>\n",
              "    <tr>\n",
              "      <th>0</th>\n",
              "      <td>3</td>\n",
              "      <td>-0.049573</td>\n",
              "      <td>0.051482</td>\n",
              "      <td>0.061498</td>\n",
              "      <td>0.357428</td>\n",
              "      <td>0.876525</td>\n",
              "      <td>-1.077288</td>\n",
              "      <td>0.951736</td>\n",
              "      <td>-0.303094</td>\n",
              "      <td>-0.133766</td>\n",
              "      <td>5</td>\n",
              "      <td>STANDING</td>\n",
              "    </tr>\n",
              "    <tr>\n",
              "      <th>1</th>\n",
              "      <td>3</td>\n",
              "      <td>-0.085298</td>\n",
              "      <td>0.048648</td>\n",
              "      <td>0.083263</td>\n",
              "      <td>0.337020</td>\n",
              "      <td>0.840771</td>\n",
              "      <td>-1.329607</td>\n",
              "      <td>0.918129</td>\n",
              "      <td>-0.301953</td>\n",
              "      <td>-0.111281</td>\n",
              "      <td>5</td>\n",
              "      <td>STANDING</td>\n",
              "    </tr>\n",
              "    <tr>\n",
              "      <th>2</th>\n",
              "      <td>3</td>\n",
              "      <td>-0.046568</td>\n",
              "      <td>0.057793</td>\n",
              "      <td>0.114970</td>\n",
              "      <td>0.320000</td>\n",
              "      <td>0.909147</td>\n",
              "      <td>-0.788201</td>\n",
              "      <td>0.958863</td>\n",
              "      <td>-0.288855</td>\n",
              "      <td>-0.078756</td>\n",
              "      <td>5</td>\n",
              "      <td>STANDING</td>\n",
              "    </tr>\n",
              "    <tr>\n",
              "      <th>3</th>\n",
              "      <td>3</td>\n",
              "      <td>0.001564</td>\n",
              "      <td>0.068723</td>\n",
              "      <td>0.144465</td>\n",
              "      <td>0.308596</td>\n",
              "      <td>0.773221</td>\n",
              "      <td>-0.313850</td>\n",
              "      <td>1.008886</td>\n",
              "      <td>-0.274002</td>\n",
              "      <td>-0.048346</td>\n",
              "      <td>5</td>\n",
              "      <td>STANDING</td>\n",
              "    </tr>\n",
              "    <tr>\n",
              "      <th>4</th>\n",
              "      <td>3</td>\n",
              "      <td>-0.026644</td>\n",
              "      <td>0.088834</td>\n",
              "      <td>0.188589</td>\n",
              "      <td>0.308176</td>\n",
              "      <td>0.691534</td>\n",
              "      <td>-0.457948</td>\n",
              "      <td>0.982454</td>\n",
              "      <td>-0.250003</td>\n",
              "      <td>-0.003217</td>\n",
              "      <td>5</td>\n",
              "      <td>STANDING</td>\n",
              "    </tr>\n",
              "  </tbody>\n",
              "</table>\n",
              "</div>"
            ],
            "text/plain": [
              "   subject    acc1_x    acc1_y    acc1_z  ...    acc2_y    acc2_z  label  activity\n",
              "0        3 -0.049573  0.051482  0.061498  ... -0.303094 -0.133766      5  STANDING\n",
              "1        3 -0.085298  0.048648  0.083263  ... -0.301953 -0.111281      5  STANDING\n",
              "2        3 -0.046568  0.057793  0.114970  ... -0.288855 -0.078756      5  STANDING\n",
              "3        3  0.001564  0.068723  0.144465  ... -0.274002 -0.048346      5  STANDING\n",
              "4        3 -0.026644  0.088834  0.188589  ... -0.250003 -0.003217      5  STANDING\n",
              "\n",
              "[5 rows x 12 columns]"
            ]
          },
          "metadata": {},
          "execution_count": 14
        }
      ]
    },
    {
      "cell_type": "code",
      "metadata": {
        "colab": {
          "base_uri": "https://localhost:8080/",
          "height": 204
        },
        "id": "5gTTAqfugdPG",
        "outputId": "cc93cdd9-c8f0-41cf-92c8-8d4045532595"
      },
      "source": [
        "test_df.head()"
      ],
      "execution_count": 15,
      "outputs": [
        {
          "output_type": "execute_result",
          "data": {
            "text/html": [
              "<div>\n",
              "<style scoped>\n",
              "    .dataframe tbody tr th:only-of-type {\n",
              "        vertical-align: middle;\n",
              "    }\n",
              "\n",
              "    .dataframe tbody tr th {\n",
              "        vertical-align: top;\n",
              "    }\n",
              "\n",
              "    .dataframe thead th {\n",
              "        text-align: right;\n",
              "    }\n",
              "</style>\n",
              "<table border=\"1\" class=\"dataframe\">\n",
              "  <thead>\n",
              "    <tr style=\"text-align: right;\">\n",
              "      <th></th>\n",
              "      <th>subject</th>\n",
              "      <th>acc1_x</th>\n",
              "      <th>acc1_y</th>\n",
              "      <th>acc1_z</th>\n",
              "      <th>gyro1_x</th>\n",
              "      <th>gyro1_y</th>\n",
              "      <th>gyro1_z</th>\n",
              "      <th>acc2_x</th>\n",
              "      <th>acc2_y</th>\n",
              "      <th>acc2_z</th>\n",
              "      <th>label</th>\n",
              "      <th>activity</th>\n",
              "    </tr>\n",
              "  </thead>\n",
              "  <tbody>\n",
              "    <tr>\n",
              "      <th>0</th>\n",
              "      <td>2</td>\n",
              "      <td>0.011653</td>\n",
              "      <td>-0.029399</td>\n",
              "      <td>0.106826</td>\n",
              "      <td>0.437464</td>\n",
              "      <td>0.531349</td>\n",
              "      <td>0.136528</td>\n",
              "      <td>1.041216</td>\n",
              "      <td>-0.269796</td>\n",
              "      <td>0.023780</td>\n",
              "      <td>5</td>\n",
              "      <td>STANDING</td>\n",
              "    </tr>\n",
              "    <tr>\n",
              "      <th>1</th>\n",
              "      <td>2</td>\n",
              "      <td>0.013109</td>\n",
              "      <td>-0.039729</td>\n",
              "      <td>0.152455</td>\n",
              "      <td>0.468264</td>\n",
              "      <td>0.721069</td>\n",
              "      <td>0.097622</td>\n",
              "      <td>1.041803</td>\n",
              "      <td>-0.280025</td>\n",
              "      <td>0.076293</td>\n",
              "      <td>5</td>\n",
              "      <td>STANDING</td>\n",
              "    </tr>\n",
              "    <tr>\n",
              "      <th>2</th>\n",
              "      <td>2</td>\n",
              "      <td>0.011269</td>\n",
              "      <td>-0.052406</td>\n",
              "      <td>0.216846</td>\n",
              "      <td>0.498257</td>\n",
              "      <td>0.520328</td>\n",
              "      <td>0.083556</td>\n",
              "      <td>1.039086</td>\n",
              "      <td>-0.292663</td>\n",
              "      <td>0.147475</td>\n",
              "      <td>5</td>\n",
              "      <td>STANDING</td>\n",
              "    </tr>\n",
              "    <tr>\n",
              "      <th>3</th>\n",
              "      <td>2</td>\n",
              "      <td>0.027831</td>\n",
              "      <td>-0.052106</td>\n",
              "      <td>0.202581</td>\n",
              "      <td>0.479396</td>\n",
              "      <td>0.372625</td>\n",
              "      <td>0.022861</td>\n",
              "      <td>1.054768</td>\n",
              "      <td>-0.292384</td>\n",
              "      <td>0.139906</td>\n",
              "      <td>5</td>\n",
              "      <td>STANDING</td>\n",
              "    </tr>\n",
              "    <tr>\n",
              "      <th>4</th>\n",
              "      <td>2</td>\n",
              "      <td>0.002318</td>\n",
              "      <td>-0.045470</td>\n",
              "      <td>0.176010</td>\n",
              "      <td>0.389894</td>\n",
              "      <td>0.414541</td>\n",
              "      <td>-0.025939</td>\n",
              "      <td>1.028376</td>\n",
              "      <td>-0.285826</td>\n",
              "      <td>0.119934</td>\n",
              "      <td>5</td>\n",
              "      <td>STANDING</td>\n",
              "    </tr>\n",
              "  </tbody>\n",
              "</table>\n",
              "</div>"
            ],
            "text/plain": [
              "   subject    acc1_x    acc1_y    acc1_z  ...    acc2_y    acc2_z  label  activity\n",
              "0        2  0.011653 -0.029399  0.106826  ... -0.269796  0.023780      5  STANDING\n",
              "1        2  0.013109 -0.039729  0.152455  ... -0.280025  0.076293      5  STANDING\n",
              "2        2  0.011269 -0.052406  0.216846  ... -0.292663  0.147475      5  STANDING\n",
              "3        2  0.027831 -0.052106  0.202581  ... -0.292384  0.139906      5  STANDING\n",
              "4        2  0.002318 -0.045470  0.176010  ... -0.285826  0.119934      5  STANDING\n",
              "\n",
              "[5 rows x 12 columns]"
            ]
          },
          "metadata": {},
          "execution_count": 15
        }
      ]
    },
    {
      "cell_type": "code",
      "metadata": {
        "colab": {
          "base_uri": "https://localhost:8080/"
        },
        "id": "2FRYRm8VglcW",
        "outputId": "98788c90-e40c-4f1d-bde7-019547e61bd3"
      },
      "source": [
        "x_train = train_df.drop([\"subject\", \"label\", \"activity\"], axis = 1)\n",
        "y_train = train_df[\"label\"]\n",
        "\n",
        "x_test = test_df.drop([\"subject\", \"label\", \"activity\"], axis = 1)\n",
        "y_test = test_df[\"label\"]\n",
        "\n",
        "x_train.shape, y_train.shape, x_test.shape, y_test.shape"
      ],
      "execution_count": 16,
      "outputs": [
        {
          "output_type": "execute_result",
          "data": {
            "text/plain": [
              "((528256, 9), (528256,), (263424, 9), (263424,))"
            ]
          },
          "metadata": {},
          "execution_count": 16
        }
      ]
    },
    {
      "cell_type": "code",
      "metadata": {
        "colab": {
          "base_uri": "https://localhost:8080/"
        },
        "id": "tmWkjk0jg2TR",
        "outputId": "9473fa67-25ed-4835-c1f1-cc3e6dd09bb4"
      },
      "source": [
        "y_train=y_train-1;\n",
        "y_test=y_test-1;\n",
        "x1=x_train[0:264128];\n",
        "x2=x_train[264128:528256];\n",
        "y1=y_train[0:264128];\n",
        "y2=y_train[264128:528256];\n",
        "y1.shape"
      ],
      "execution_count": 17,
      "outputs": [
        {
          "output_type": "execute_result",
          "data": {
            "text/plain": [
              "(264128,)"
            ]
          },
          "metadata": {},
          "execution_count": 17
        }
      ]
    },
    {
      "cell_type": "code",
      "metadata": {
        "colab": {
          "base_uri": "https://localhost:8080/",
          "height": 747
        },
        "id": "Rbmcj8McOHBO",
        "outputId": "cccfca27-31e6-4b63-f130-ac5c28de2abb"
      },
      "source": [
        "fig = plt.figure(figsize = (10,8))\n",
        "ax = fig.add_axes([0,0,1,1])\n",
        "ax.set_title(\"Count of each activity\", fontsize = 11)\n",
        "plt.tick_params(labelsize = 10)\n",
        "sns.countplot(x='activity' , data = train_df)\n",
        "for i in ax.patches:\n",
        "    ax.text(x = i.get_x() + 0.2 , y = i.get_height() + 10, s = str(i.get_height()), fontsize=20)\n",
        "plt.xlabel('')\n",
        "plt.ylabel('Count',fontsize =15)\n",
        "plt.tick_params(labelsize = 13)\n",
        "plt.xticks(rotation = 45)\n",
        "plt.show()"
      ],
      "execution_count": 18,
      "outputs": [
        {
          "output_type": "display_data",
          "data": {
            "image/png": "[encoded data removed]",
            "text/plain": [
              "<Figure size 720x576 with 1 Axes>"
            ]
          },
          "metadata": {
            "needs_background": "light"
          }
        }
      ]
    },
    {
      "cell_type": "code",
      "metadata": {
        "colab": {
          "base_uri": "https://localhost:8080/",
          "height": 661
        },
        "id": "m5rNfBiTO-ak",
        "outputId": "56e6b68b-9561-4c19-d538-45ab66af8dc2"
      },
      "source": [
        "fig = plt.figure(figsize = (15, 8))\n",
        "ax = fig.add_axes([0,0,1,1])\n",
        "ax.set_title(\"Activity by each test subject\", fontsize = 15)\n",
        "plt.tick_params(labelsize = 10)\n",
        "sns.countplot(x = 'subject', hue = \"activity\", data = train_df)\n",
        "plt.xlabel(\"Subject ID\", fontsize = 15)\n",
        "plt.ylabel(\"Count\", fontsize = 15)\n",
        "plt.show()"
      ],
      "execution_count": 19,
      "outputs": [
        {
          "output_type": "display_data",
          "data": {
            "image/png": "[encoded data removed]",
            "text/plain": [
              "<Figure size 1080x576 with 1 Axes>"
            ]
          },
          "metadata": {
            "needs_background": "light"
          }
        }
      ]
    },
    {
      "cell_type": "code",
      "metadata": {
        "colab": {
          "base_uri": "https://localhost:8080/"
        },
        "id": "z8LO0TLDhGkS",
        "outputId": "3fa7293c-9a9c-4d51-cabe-518a3becd6d8"
      },
      "source": [
        "from keras.models import Sequential\n",
        "from keras.layers.core import Dense, Dropout, Activation\n",
        "#from keras.optimizers import SGD\n",
        "\n",
        "\n",
        "\n",
        "model1 = tf.keras.Sequential([                          \n",
        "    #tf.reshape(data, [561, 1])\n",
        "    tf.keras.layers.Flatten(input_shape=(9, 1)),\n",
        "    tf.keras.layers.Dense(256, activation='relu'),\n",
        "    tf.keras.layers.Dense(128, activation='relu'),\n",
        "    tf.keras.layers.Dense(64, activation='relu'),\n",
        "    tf.keras.layers.Dense(32, activation='relu'),\n",
        "    tf.keras.layers.Dense(6, activation='softmax')\n",
        "])\n",
        "\n",
        "model1.compile(optimizer='adam',\n",
        "              loss=tf.keras.losses.SparseCategoricalCrossentropy(from_logits=True),\n",
        "              metrics=['accuracy'])\n",
        "\n",
        "\n",
        "model1.fit(x1,y1,epochs=10)\n",
        "#model1.fit(x1, y1, epochs=10)\n",
        "\n",
        "#W12=[];\n",
        "#for ln,l in enumerate(model1.layers):\n",
        " #   w=(l.get_weights());\n",
        "  #  if(len(w)>0):\n",
        "       #W12.append(w[0]);\n",
        "\n",
        "W12=model1.get_weights();\n",
        "W1=np.array(W12);"
      ],
      "execution_count": 20,
      "outputs": [
        {
          "output_type": "stream",
          "name": "stdout",
          "text": [
            "Epoch 1/10\n"
          ]
        },
        {
          "output_type": "stream",
          "name": "stderr",
          "text": [
            "/usr/local/lib/python3.7/dist-packages/keras/backend.py:4907: UserWarning: \"`sparse_categorical_crossentropy` received `from_logits=True`, but the `output` argument was produced by a sigmoid or softmax activation and thus does not represent logits. Was this intended?\"\n",
            "  '\"`sparse_categorical_crossentropy` received `from_logits=True`, but '\n"
          ]
        },
        {
          "output_type": "stream",
          "name": "stdout",
          "text": [
            "8254/8254 [==============================] - 23s 3ms/step - loss: 0.2586 - accuracy: 0.8968\n",
            "Epoch 2/10\n",
            "8254/8254 [==============================] - 22s 3ms/step - loss: 0.1457 - accuracy: 0.9434\n",
            "Epoch 3/10\n",
            "8254/8254 [==============================] - 22s 3ms/step - loss: 0.1208 - accuracy: 0.9539\n",
            "Epoch 4/10\n",
            "8254/8254 [==============================] - 21s 3ms/step - loss: 0.1039 - accuracy: 0.9613\n",
            "Epoch 5/10\n",
            "8254/8254 [==============================] - 22s 3ms/step - loss: 0.0928 - accuracy: 0.9656\n",
            "Epoch 6/10\n",
            "8254/8254 [==============================] - 22s 3ms/step - loss: 0.0849 - accuracy: 0.9688\n",
            "Epoch 7/10\n",
            "8254/8254 [==============================] - 22s 3ms/step - loss: 0.0784 - accuracy: 0.9710\n",
            "Epoch 8/10\n",
            "8254/8254 [==============================] - 22s 3ms/step - loss: 0.0721 - accuracy: 0.9736\n",
            "Epoch 9/10\n",
            "8254/8254 [==============================] - 22s 3ms/step - loss: 0.0678 - accuracy: 0.9752\n",
            "Epoch 10/10\n",
            "8254/8254 [==============================] - 22s 3ms/step - loss: 0.0641 - accuracy: 0.9766\n"
          ]
        },
        {
          "output_type": "stream",
          "name": "stderr",
          "text": [
            "/usr/local/lib/python3.7/dist-packages/ipykernel_launcher.py:32: VisibleDeprecationWarning: Creating an ndarray from ragged nested sequences (which is a list-or-tuple of lists-or-tuples-or ndarrays with different lengths or shapes) is deprecated. If you meant to do this, you must specify 'dtype=object' when creating the ndarray\n"
          ]
        }
      ]
    },
    {
      "cell_type": "code",
      "metadata": {
        "colab": {
          "base_uri": "https://localhost:8080/"
        },
        "id": "DGmWkHwIj86g",
        "outputId": "1bcc7015-9e77-4081-ae19-3779663fb958"
      },
      "source": [
        "model2 = tf.keras.Sequential([\n",
        "    tf.keras.layers.Flatten(input_shape=(9, 1)),\n",
        "    tf.keras.layers.Dense(256, activation='relu'),\n",
        "    tf.keras.layers.Dense(128, activation='relu'),\n",
        "    tf.keras.layers.Dense(64, activation='relu'),\n",
        "    tf.keras.layers.Dense(32, activation='relu'),\n",
        "    tf.keras.layers.Dense(6, activation='softmax')\n",
        "])\n",
        "\n",
        "model2.compile(optimizer='adam',\n",
        "              loss=tf.keras.losses.SparseCategoricalCrossentropy(from_logits=True),\n",
        "              metrics=['accuracy'])\n",
        "\n",
        "model2.fit(x2, y2, epochs=10)\n",
        "\n",
        "\n",
        "W12=model2.get_weights();\n",
        "W2=np.array(W12);"
      ],
      "execution_count": 21,
      "outputs": [
        {
          "output_type": "stream",
          "name": "stdout",
          "text": [
            "Epoch 1/10\n"
          ]
        },
        {
          "output_type": "stream",
          "name": "stderr",
          "text": [
            "/usr/local/lib/python3.7/dist-packages/keras/backend.py:4907: UserWarning: \"`sparse_categorical_crossentropy` received `from_logits=True`, but the `output` argument was produced by a sigmoid or softmax activation and thus does not represent logits. Was this intended?\"\n",
            "  '\"`sparse_categorical_crossentropy` received `from_logits=True`, but '\n"
          ]
        },
        {
          "output_type": "stream",
          "name": "stdout",
          "text": [
            "8254/8254 [==============================] - 23s 3ms/step - loss: 0.2916 - accuracy: 0.8780\n",
            "Epoch 2/10\n",
            "8254/8254 [==============================] - 21s 3ms/step - loss: 0.1763 - accuracy: 0.9314\n",
            "Epoch 3/10\n",
            "8254/8254 [==============================] - 21s 3ms/step - loss: 0.1329 - accuracy: 0.9502\n",
            "Epoch 4/10\n",
            "8254/8254 [==============================] - 23s 3ms/step - loss: 0.1094 - accuracy: 0.9599\n",
            "Epoch 5/10\n",
            "8254/8254 [==============================] - 21s 3ms/step - loss: 0.0928 - accuracy: 0.9662\n",
            "Epoch 6/10\n",
            "8254/8254 [==============================] - 20s 2ms/step - loss: 0.0827 - accuracy: 0.9700\n",
            "Epoch 7/10\n",
            "8254/8254 [==============================] - 20s 2ms/step - loss: 0.0745 - accuracy: 0.9728\n",
            "Epoch 8/10\n",
            "8254/8254 [==============================] - 21s 3ms/step - loss: 0.0680 - accuracy: 0.9752\n",
            "Epoch 9/10\n",
            "8254/8254 [==============================] - 20s 2ms/step - loss: 0.0634 - accuracy: 0.9769\n",
            "Epoch 10/10\n",
            "8254/8254 [==============================] - 20s 2ms/step - loss: 0.0591 - accuracy: 0.9787\n"
          ]
        },
        {
          "output_type": "stream",
          "name": "stderr",
          "text": [
            "/usr/local/lib/python3.7/dist-packages/ipykernel_launcher.py:18: VisibleDeprecationWarning: Creating an ndarray from ragged nested sequences (which is a list-or-tuple of lists-or-tuples-or ndarrays with different lengths or shapes) is deprecated. If you meant to do this, you must specify 'dtype=object' when creating the ndarray\n"
          ]
        }
      ]
    },
    {
      "cell_type": "code",
      "metadata": {
        "colab": {
          "base_uri": "https://localhost:8080/"
        },
        "id": "rGSCaQzok0s1",
        "outputId": "4087d6db-d313-4afd-950f-c946c490e5f5"
      },
      "source": [
        "W=(W1+W2)/2.0;\n",
        "print(W1.shape,'\\n')\n",
        "print(W2.shape,'\\n')\n",
        "print(W.shape,'\\n')"
      ],
      "execution_count": 22,
      "outputs": [
        {
          "output_type": "stream",
          "name": "stdout",
          "text": [
            "(10,) \n",
            "\n",
            "(10,) \n",
            "\n",
            "(10,) \n",
            "\n"
          ]
        }
      ]
    },
    {
      "cell_type": "code",
      "metadata": {
        "id": "-ym-7BRwk6mu"
      },
      "source": [
        "model = tf.keras.Sequential([\n",
        "    tf.keras.layers.Flatten(input_shape=(9, 1)),\n",
        "    tf.keras.layers.Dense(256, activation='relu'),\n",
        "    tf.keras.layers.Dense(128, activation='relu'),\n",
        "    tf.keras.layers.Dense(64, activation='relu'),\n",
        "    tf.keras.layers.Dense(32, activation='relu'),\n",
        "    tf.keras.layers.Dense(6, activation='softmax')\n",
        "])\n",
        "model.compile(optimizer='adam',\n",
        "              loss=tf.keras.losses.SparseCategoricalCrossentropy(from_logits=True),\n",
        "              metrics=['accuracy'])\n",
        "model.set_weights(W)"
      ],
      "execution_count": 23,
      "outputs": []
    },
    {
      "cell_type": "code",
      "metadata": {
        "colab": {
          "base_uri": "https://localhost:8080/"
        },
        "id": "lfxsJjN_lOo2",
        "outputId": "b50066c0-0e6c-40d5-98cc-623d00224aac"
      },
      "source": [
        "res=model.evaluate(x_test,y_test, verbose=1);"
      ],
      "execution_count": 24,
      "outputs": [
        {
          "output_type": "stream",
          "name": "stdout",
          "text": [
            "\r   1/8232 [..............................] - ETA: 37:35 - loss: 2.4653 - accuracy: 0.0000e+00"
          ]
        },
        {
          "output_type": "stream",
          "name": "stderr",
          "text": [
            "/usr/local/lib/python3.7/dist-packages/keras/backend.py:4907: UserWarning: \"`sparse_categorical_crossentropy` received `from_logits=True`, but the `output` argument was produced by a sigmoid or softmax activation and thus does not represent logits. Was this intended?\"\n",
            "  '\"`sparse_categorical_crossentropy` received `from_logits=True`, but '\n"
          ]
        },
        {
          "output_type": "stream",
          "name": "stdout",
          "text": [
            "8232/8232 [==============================] - 11s 1ms/step - loss: 8.0724 - accuracy: 0.1548\n"
          ]
        }
      ]
    }
  ]
}